{
  "nbformat": 4,
  "nbformat_minor": 0,
  "metadata": {
    "colab": {
      "name": "Hamoye Assessment1.ipynb",
      "provenance": [],
      "authorship_tag": "ABX9TyPCnR7VCqSU1P9t6LpqPv28",
      "include_colab_link": true
    },
    "kernelspec": {
      "name": "python3",
      "display_name": "Python 3"
    }
  },
  "cells": [
    {
      "cell_type": "markdown",
      "metadata": {
        "id": "view-in-github",
        "colab_type": "text"
      },
      "source": [
        "<a href=\"https://colab.research.google.com/github/Thobeee/Hamoye-Project/blob/main/Hamoye_Assessment1.ipynb\" target=\"_parent\"><img src=\"https://colab.research.google.com/assets/colab-badge.svg\" alt=\"Open In Colab\"/></a>"
      ]
    },
    {
      "cell_type": "markdown",
      "metadata": {
        "id": "JPvsJVhFjpjy"
      },
      "source": [
        "# Hamoye Assessment 1"
      ]
    },
    {
      "cell_type": "code",
      "metadata": {
        "id": "-i_AgcHbjohT"
      },
      "source": [
        "#Importing the important libraries\r\n",
        "\r\n",
        "import numpy as np\r\n",
        "import pandas as pd\r\n",
        "import matplotlib.pyplot as plt\r\n",
        "import seaborn as sns"
      ],
      "execution_count": 1,
      "outputs": []
    },
    {
      "cell_type": "code",
      "metadata": {
        "colab": {
          "base_uri": "https://localhost:8080/",
          "height": 222
        },
        "id": "YN0vP3AekF1y",
        "outputId": "69f9a7f3-b5de-4502-d97f-64dd225b0294"
      },
      "source": [
        "#Loading the dataset\r\n",
        "url ='https://raw.githubusercontent.com/WalePhenomenon/climate_change/master/fuel_ferc1.csv'\r\n",
        "df = pd.read_csv(url)\r\n",
        "df.head()"
      ],
      "execution_count": 2,
      "outputs": [
        {
          "output_type": "execute_result",
          "data": {
            "text/html": [
              "<div>\n",
              "<style scoped>\n",
              "    .dataframe tbody tr th:only-of-type {\n",
              "        vertical-align: middle;\n",
              "    }\n",
              "\n",
              "    .dataframe tbody tr th {\n",
              "        vertical-align: top;\n",
              "    }\n",
              "\n",
              "    .dataframe thead th {\n",
              "        text-align: right;\n",
              "    }\n",
              "</style>\n",
              "<table border=\"1\" class=\"dataframe\">\n",
              "  <thead>\n",
              "    <tr style=\"text-align: right;\">\n",
              "      <th></th>\n",
              "      <th>record_id</th>\n",
              "      <th>utility_id_ferc1</th>\n",
              "      <th>report_year</th>\n",
              "      <th>plant_name_ferc1</th>\n",
              "      <th>fuel_type_code_pudl</th>\n",
              "      <th>fuel_unit</th>\n",
              "      <th>fuel_qty_burned</th>\n",
              "      <th>fuel_mmbtu_per_unit</th>\n",
              "      <th>fuel_cost_per_unit_burned</th>\n",
              "      <th>fuel_cost_per_unit_delivered</th>\n",
              "      <th>fuel_cost_per_mmbtu</th>\n",
              "    </tr>\n",
              "  </thead>\n",
              "  <tbody>\n",
              "    <tr>\n",
              "      <th>0</th>\n",
              "      <td>f1_fuel_1994_12_1_0_7</td>\n",
              "      <td>1</td>\n",
              "      <td>1994</td>\n",
              "      <td>rockport</td>\n",
              "      <td>coal</td>\n",
              "      <td>ton</td>\n",
              "      <td>5377489.0</td>\n",
              "      <td>16.590</td>\n",
              "      <td>18.59</td>\n",
              "      <td>18.53</td>\n",
              "      <td>1.121</td>\n",
              "    </tr>\n",
              "    <tr>\n",
              "      <th>1</th>\n",
              "      <td>f1_fuel_1994_12_1_0_10</td>\n",
              "      <td>1</td>\n",
              "      <td>1994</td>\n",
              "      <td>rockport total plant</td>\n",
              "      <td>coal</td>\n",
              "      <td>ton</td>\n",
              "      <td>10486945.0</td>\n",
              "      <td>16.592</td>\n",
              "      <td>18.58</td>\n",
              "      <td>18.53</td>\n",
              "      <td>1.120</td>\n",
              "    </tr>\n",
              "    <tr>\n",
              "      <th>2</th>\n",
              "      <td>f1_fuel_1994_12_2_0_1</td>\n",
              "      <td>2</td>\n",
              "      <td>1994</td>\n",
              "      <td>gorgas</td>\n",
              "      <td>coal</td>\n",
              "      <td>ton</td>\n",
              "      <td>2978683.0</td>\n",
              "      <td>24.130</td>\n",
              "      <td>39.72</td>\n",
              "      <td>38.12</td>\n",
              "      <td>1.650</td>\n",
              "    </tr>\n",
              "    <tr>\n",
              "      <th>3</th>\n",
              "      <td>f1_fuel_1994_12_2_0_7</td>\n",
              "      <td>2</td>\n",
              "      <td>1994</td>\n",
              "      <td>barry</td>\n",
              "      <td>coal</td>\n",
              "      <td>ton</td>\n",
              "      <td>3739484.0</td>\n",
              "      <td>23.950</td>\n",
              "      <td>47.21</td>\n",
              "      <td>45.99</td>\n",
              "      <td>1.970</td>\n",
              "    </tr>\n",
              "    <tr>\n",
              "      <th>4</th>\n",
              "      <td>f1_fuel_1994_12_2_0_10</td>\n",
              "      <td>2</td>\n",
              "      <td>1994</td>\n",
              "      <td>chickasaw</td>\n",
              "      <td>gas</td>\n",
              "      <td>mcf</td>\n",
              "      <td>40533.0</td>\n",
              "      <td>1.000</td>\n",
              "      <td>2.77</td>\n",
              "      <td>2.77</td>\n",
              "      <td>2.570</td>\n",
              "    </tr>\n",
              "  </tbody>\n",
              "</table>\n",
              "</div>"
            ],
            "text/plain": [
              "                record_id  ...  fuel_cost_per_mmbtu\n",
              "0   f1_fuel_1994_12_1_0_7  ...                1.121\n",
              "1  f1_fuel_1994_12_1_0_10  ...                1.120\n",
              "2   f1_fuel_1994_12_2_0_1  ...                1.650\n",
              "3   f1_fuel_1994_12_2_0_7  ...                1.970\n",
              "4  f1_fuel_1994_12_2_0_10  ...                2.570\n",
              "\n",
              "[5 rows x 11 columns]"
            ]
          },
          "metadata": {
            "tags": []
          },
          "execution_count": 2
        }
      ]
    },
    {
      "cell_type": "code",
      "metadata": {
        "colab": {
          "base_uri": "https://localhost:8080/"
        },
        "id": "t6vWHlPikQ34",
        "outputId": "08e8c4f5-9e52-4ee4-d764-bae9dbb0245d"
      },
      "source": [
        "df.shape"
      ],
      "execution_count": 3,
      "outputs": [
        {
          "output_type": "execute_result",
          "data": {
            "text/plain": [
              "(29523, 11)"
            ]
          },
          "metadata": {
            "tags": []
          },
          "execution_count": 3
        }
      ]
    },
    {
      "cell_type": "code",
      "metadata": {
        "colab": {
          "base_uri": "https://localhost:8080/"
        },
        "id": "SM-kibV6kxBp",
        "outputId": "94f08e9d-d7a5-45b2-8a70-a8d19614291f"
      },
      "source": [
        "df['record_id'].nunique()"
      ],
      "execution_count": 4,
      "outputs": [
        {
          "output_type": "execute_result",
          "data": {
            "text/plain": [
              "29523"
            ]
          },
          "metadata": {
            "tags": []
          },
          "execution_count": 4
        }
      ]
    },
    {
      "cell_type": "markdown",
      "metadata": {
        "id": "DYcpLrt--vdK"
      },
      "source": [
        "## Questions and Answers"
      ]
    },
    {
      "cell_type": "markdown",
      "metadata": {
        "id": "Si-L1A1v-4rj"
      },
      "source": [
        "### 1. Which of the following fuel type code has the lowest average fuel cost per unit burned"
      ]
    },
    {
      "cell_type": "code",
      "metadata": {
        "colab": {
          "base_uri": "https://localhost:8080/"
        },
        "id": "cHvyxrJG8kmV",
        "outputId": "3d7b0686-e1be-4dc7-ff46-810a7061502b"
      },
      "source": [
        "df.groupby('fuel_type_code_pudl')['fuel_cost_per_unit_burned'].mean().sort_values()"
      ],
      "execution_count": 5,
      "outputs": [
        {
          "output_type": "execute_result",
          "data": {
            "text/plain": [
              "fuel_type_code_pudl\n",
              "gas          13.659397\n",
              "other        18.253856\n",
              "waste        19.518122\n",
              "coal         67.421830\n",
              "oil         168.877086\n",
              "nuclear    4955.157002\n",
              "Name: fuel_cost_per_unit_burned, dtype: float64"
            ]
          },
          "metadata": {
            "tags": []
          },
          "execution_count": 5
        }
      ]
    },
    {
      "cell_type": "markdown",
      "metadata": {
        "id": "3hpB6i7gBPTZ"
      },
      "source": [
        "**Gas** has the lowest average fuel cost per unit"
      ]
    },
    {
      "cell_type": "markdown",
      "metadata": {
        "id": "h7lobtTBBVuI"
      },
      "source": [
        "### 2. What is the standard deviation and 75th percentile of the measure of energy per unit(Fuel_mmbtu_per_unit) in two decimal place"
      ]
    },
    {
      "cell_type": "code",
      "metadata": {
        "colab": {
          "base_uri": "https://localhost:8080/"
        },
        "id": "uPEI8TDZA4UW",
        "outputId": "15575905-d7e5-47ef-8753-e4493c97f8fd"
      },
      "source": [
        "standard_deviation = np.std(df['fuel_mmbtu_per_unit'])\r\n",
        "percentile_75 = np.percentile(df['fuel_mmbtu_per_unit'],75) \r\n",
        "print(f'{standard_deviation:.2f}')\r\n",
        "print(f'{percentile_75:.2f}')"
      ],
      "execution_count": 6,
      "outputs": [
        {
          "output_type": "stream",
          "text": [
            "10.60\n",
            "17.01\n"
          ],
          "name": "stdout"
        }
      ]
    },
    {
      "cell_type": "markdown",
      "metadata": {
        "id": "cMKZiL0xD8PZ"
      },
      "source": [
        "The standard deviation of the measure of energy per unit(Fuel_mmbtu_per_unit) in two decimal place is **10.60**\r\n",
        "\r\n",
        "The 75th percentile of the measure of energy per unit(Fuel_mmbtu_per_unit) in two decimal place is **17.01**"
      ]
    },
    {
      "cell_type": "markdown",
      "metadata": {
        "id": "_8C_O6_2EbHr"
      },
      "source": [
        "### 3. What is the skewness and kurtosis for the fuel quantity burned in two decimal places?"
      ]
    },
    {
      "cell_type": "code",
      "metadata": {
        "colab": {
          "base_uri": "https://localhost:8080/"
        },
        "id": "ZhDtJbXhCH_y",
        "outputId": "952f878e-7c85-4d54-83d0-2c0ccfd0e99e"
      },
      "source": [
        "#Import kurtosis and skew from scipy module\r\n",
        "from scipy.stats import kurtosis, skew\r\n",
        "skewness = skew(df['fuel_qty_burned'])\r\n",
        "kurt = kurtosis(df['fuel_qty_burned'])\r\n",
        "print(f'{skewness:.2f}')\r\n",
        "print(f'{kurt:.2f}')"
      ],
      "execution_count": 7,
      "outputs": [
        {
          "output_type": "stream",
          "text": [
            "15.85\n",
            "651.26\n"
          ],
          "name": "stdout"
        }
      ]
    },
    {
      "cell_type": "markdown",
      "metadata": {
        "id": "I1TxllspGZTX"
      },
      "source": [
        "The skewness for the fuel quantity burned in two decimal place is **15.85**\r\n",
        "\r\n",
        "The kurtosis for the fuel quantity burned in two decimal place is **651.37**"
      ]
    },
    {
      "cell_type": "markdown",
      "metadata": {
        "id": "AAoMIQOTG_nF"
      },
      "source": [
        "### 4. Which feature has missing values and what is the total number of missig value and percentage of the missing rows as a factor of the total number of rows in three decimal places"
      ]
    },
    {
      "cell_type": "code",
      "metadata": {
        "colab": {
          "base_uri": "https://localhost:8080/"
        },
        "id": "_qoiGpFvE3e1",
        "outputId": "6cd8e583-e692-456e-e922-8fd0351cc7ca"
      },
      "source": [
        "null_feature = df.columns[df.isnull().any()].tolist()\r\n",
        "for value in null_feature:\r\n",
        "   total = df[value].isnull().sum()\r\n",
        "   percentage = df[value].isnull().sum()/df.shape[0] * 100\r\n",
        "\r\n",
        "   print(f'Feature:{value}, Total:{total}, Percent:{percentage:.3f}')"
      ],
      "execution_count": 9,
      "outputs": [
        {
          "output_type": "stream",
          "text": [
            "Feature:fuel_unit, Total:180, Percent:0.610\n"
          ],
          "name": "stdout"
        }
      ]
    },
    {
      "cell_type": "markdown",
      "metadata": {
        "id": "gj8sLCRSOFs6"
      },
      "source": [
        "The feature with null values: **fuel_unit**\r\n",
        "\r\n",
        "The total number of null values: **180**\r\n",
        "\r\n",
        "The percentage of the total: **0.610**"
      ]
    },
    {
      "cell_type": "markdown",
      "metadata": {
        "id": "qP3Z-OP5Qs6Q"
      },
      "source": [
        "### 5. Which features has the second and third lowest correlation with the Fuel Cost Per Unit Burned"
      ]
    },
    {
      "cell_type": "code",
      "metadata": {
        "colab": {
          "base_uri": "https://localhost:8080/"
        },
        "id": "SOuaE8RU5xPv",
        "outputId": "d6f03c0c-b554-41d2-bb4e-5fe3c02e6ba1"
      },
      "source": [
        "corr.loc['fuel_cost_per_unit_burned'].sort_values(ascending=False)"
      ],
      "execution_count": 44,
      "outputs": [
        {
          "output_type": "execute_result",
          "data": {
            "text/plain": [
              "fuel_cost_per_unit_burned       1.000000\n",
              "report_year                     0.013599\n",
              "fuel_cost_per_unit_delivered    0.011007\n",
              "fuel_cost_per_mmbtu            -0.000437\n",
              "fuel_mmbtu_per_unit            -0.010034\n",
              "fuel_qty_burned                -0.018535\n",
              "utility_id_ferc1               -0.037863\n",
              "Name: fuel_cost_per_unit_burned, dtype: float64"
            ]
          },
          "metadata": {
            "tags": []
          },
          "execution_count": 44
        }
      ]
    },
    {
      "cell_type": "markdown",
      "metadata": {
        "id": "GEYOGqcuANOg"
      },
      "source": [
        "The features that have the second and third lowest correlation with fuel Cost Per Unit Burned are **fuel_qty_burned** and **fuel_mmbtu_per_unit** respectively"
      ]
    },
    {
      "cell_type": "markdown",
      "metadata": {
        "id": "v1Y_GSpsTJzy"
      },
      "source": [
        "### 6. For the fuel type coal, what is thepercentage change in the fuel cost per unit in 1998 compared to 1994"
      ]
    },
    {
      "cell_type": "code",
      "metadata": {
        "colab": {
          "base_uri": "https://localhost:8080/"
        },
        "id": "N7NqKDrnSg3X",
        "outputId": "c5e25174-6f04-4985-e7c2-3ff86b72f83c"
      },
      "source": [
        "coal = df[df['fuel_type_code_pudl'] == 'coal']\r\n",
        "percent_coal_burned_in_1998 = coal[coal['report_year'] == 1998]['fuel_cost_per_unit_burned'].sum() \r\n",
        "percent_coal_burned_in_1994 = coal[coal['report_year'] == 1994]['fuel_cost_per_unit_burned'].sum()\r\n",
        "percent_change = (percent_coal_burned_in_1998 - percent_coal_burned_in_1994)/percent_coal_burned_in_1998\r\n",
        "percent = percent_change * 100\r\n",
        "print(percent)"
      ],
      "execution_count": 28,
      "outputs": [
        {
          "output_type": "stream",
          "text": [
            "-25.893298748163968\n"
          ],
          "name": "stdout"
        }
      ]
    },
    {
      "cell_type": "markdown",
      "metadata": {
        "id": "gLQ45SPpaRO0"
      },
      "source": [
        "The percentage change in fuel cost burned in 1998 compared to 1994 for coal is **-26%**"
      ]
    },
    {
      "cell_type": "markdown",
      "metadata": {
        "id": "EPialzdxU56h"
      },
      "source": [
        "### 7. Which year has the highest average fuel cost per unit delivered"
      ]
    },
    {
      "cell_type": "code",
      "metadata": {
        "colab": {
          "base_uri": "https://localhost:8080/"
        },
        "id": "RG3vRqIOUEna",
        "outputId": "b5fdbb02-ebe4-4d1b-fb03-9039f2e73c87"
      },
      "source": [
        "new_df = df[['report_year', 'fuel_cost_per_unit_delivered']]\r\n",
        "new_df.groupby('report_year')['fuel_cost_per_unit_delivered'].mean().sort_values(ascending = False)"
      ],
      "execution_count": 35,
      "outputs": [
        {
          "output_type": "execute_result",
          "data": {
            "text/plain": [
              "report_year\n",
              "1997    11140.197239\n",
              "1996     9196.705948\n",
              "2000      985.362877\n",
              "2009      652.694163\n",
              "2018      499.269966\n",
              "2015      326.535511\n",
              "1998      287.154420\n",
              "2014      192.737183\n",
              "2013      172.307591\n",
              "2004      139.524275\n",
              "2016      103.901761\n",
              "2010       91.862105\n",
              "1994       63.636060\n",
              "2012       60.994502\n",
              "2001       60.050396\n",
              "2011       59.774667\n",
              "2008       58.588197\n",
              "2003       55.663493\n",
              "2002       47.594361\n",
              "2017       46.196861\n",
              "2007       43.325023\n",
              "2005       41.438184\n",
              "2006       38.657484\n",
              "1995       32.735269\n",
              "1999       25.551627\n",
              "Name: fuel_cost_per_unit_delivered, dtype: float64"
            ]
          },
          "metadata": {
            "tags": []
          },
          "execution_count": 35
        }
      ]
    },
    {
      "cell_type": "markdown",
      "metadata": {
        "id": "Rnn1PARRccWl"
      },
      "source": [
        "The year with the highest average fuel cost per unit delivered is **1997**"
      ]
    },
    {
      "cell_type": "code",
      "metadata": {
        "id": "secpnLddbSFp"
      },
      "source": [
        ""
      ],
      "execution_count": null,
      "outputs": []
    }
  ]
}